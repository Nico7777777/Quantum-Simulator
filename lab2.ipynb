{
 "cells": [
  {
   "cell_type": "markdown",
   "metadata": {
    "id": "lxkLdtXkWl5f"
   },
   "source": [
    "# Quantum Computing Lab 2: Single Qubit Gates"
   ]
  },
  {
   "cell_type": "markdown",
   "metadata": {
    "id": "sK5Y4PcMWl5j"
   },
   "source": [
    "## Introduction\n",
    "Welcome to the lab 2 on Quantum Single Qubit Gates. Please follow the instructions and complete the exercises provided."
   ]
  },
  {
   "cell_type": "code",
   "execution_count": 1,
   "metadata": {
    "id": "9xqPoFgDWl5k"
   },
   "outputs": [],
   "source": [
    "import numpy as np"
   ]
  },
  {
   "cell_type": "markdown",
   "metadata": {
    "id": "gsI5PD01Wl5l"
   },
   "source": [
    "### 1: Python/Numpy Recap"
   ]
  },
  {
   "cell_type": "code",
   "execution_count": 9,
   "metadata": {
    "id": "Uj8YMNRfWl5m"
   },
   "outputs": [],
   "source": [
    "# TODO: Create a variable named 'complex_var' with the complex value 3 + 4j\n",
    "complex_var = 3 + 4j\n",
    "\n",
    "# TODO: Create a numpy array named 'array_var' with values 1, 2, 3, 4\n",
    "array_var = np.array([i for i in range(1, 5)])\n",
    "\n",
    "# TODO: Create a 2x2 numpy matrix named 'real_matrix' with real values:\n",
    "# [[1, 2],\n",
    "#  [3, 4]]\n",
    "real_matrix = np.array([[1, 2], [3, 4]])\n",
    "\n",
    "# TODO: Create a 2x2 numpy matrix named 'complex_matrix' with complex values:\n",
    "# [[1 + 1j, 2 + 2j],\n",
    "#  [3 + 3j, 4 + 4j]]\n",
    "complex_matrix = np.array([[1 + 1j, 2 + 2j], [3+3j, 4+4j]])\n",
    "\n",
    "# TODO: Add 'real_matrix' and 'complex_matrix' and store the result in 'result_matrix'\n",
    "result_matrix = real_matrix + complex_matrix\n",
    "\n",
    "# TODO: Create a variable named 'angle' with the value of pi/2. Use numpy to get the value of pi.\n",
    "angle = np.pi / 2\n",
    "\n",
    "# TODO: Check whether 'angle' is approximately equal to 1.5708 (hint: use numpy's 'isclose' function)\n",
    "# Store the result in 'is_approx_equal'\n",
    "is_approx_equal = np.isclose(angle, 1.5708)"
   ]
  },
  {
   "cell_type": "code",
   "execution_count": 10,
   "metadata": {},
   "outputs": [
    {
     "name": "stdout",
     "output_type": "stream",
     "text": [
      "[1 2 3 4]\n"
     ]
    }
   ],
   "source": [
    "print(array_var)"
   ]
  },
  {
   "cell_type": "code",
   "execution_count": 11,
   "metadata": {
    "id": "LyL3Q4sMWl5m"
   },
   "outputs": [],
   "source": [
    "assert complex_var == 3 + 4j\n",
    "assert np.array_equal(array_var, np.array([1, 2, 3, 4]))\n",
    "assert np.array_equal(real_matrix, np.array([[1, 2], [3, 4]]))\n",
    "assert np.array_equal(complex_matrix, np.array([[1 + 1j, 2 + 2j], [3 + 3j, 4 + 4j]]))\n",
    "assert np.array_equal(result_matrix, np.array([[2 + 1j, 4 + 2j], [6 + 3j, 8 + 4j]]))\n",
    "assert np.isclose(angle, np.pi / 2)\n",
    "assert is_approx_equal\n"
   ]
  },
  {
   "cell_type": "markdown",
   "metadata": {
    "id": "9bcZWk90Wl5m"
   },
   "source": [
    "### 2: Check Quantum State Validity"
   ]
  },
  {
   "cell_type": "markdown",
   "metadata": {
    "id": "fjwS_MC5Wl5n"
   },
   "source": [
    "Write a function that checks whether a given quantum state is valid (returns boolean)."
   ]
  },
  {
   "cell_type": "code",
   "execution_count": 17,
   "metadata": {
    "id": "5lrrNKRnWl5n"
   },
   "outputs": [],
   "source": [
    "def is_valid_state(state):\n",
    "    return np.isclose(np.linalg.norm(state), 1)"
   ]
  },
  {
   "cell_type": "code",
   "execution_count": 19,
   "metadata": {
    "id": "Re2qPTxxWl5n"
   },
   "outputs": [],
   "source": [
    "state1 = np.array([0.6, 0.8])\n",
    "state2 = np.array([0.5, 0.5])\n",
    "state3 = np.array([0.70710678, 0.70710678])\n",
    "state4 = np.array([0.5+0.5j, 0.5-0.5j])\n",
    "state5 = np.array([1, 0])\n",
    "assert is_valid_state(state1)\n",
    "assert not is_valid_state(state2)\n",
    "assert is_valid_state(state3)\n",
    "assert is_valid_state(state4)\n",
    "assert is_valid_state(state5)"
   ]
  },
  {
   "cell_type": "markdown",
   "metadata": {
    "id": "t7B3G547Wl5o"
   },
   "source": [
    "### 3. X (Pauli-X or NOT gate)"
   ]
  },
  {
   "cell_type": "markdown",
   "metadata": {
    "id": "SO8rBrgsWl5o"
   },
   "source": [
    "Write a function that returns an X gate."
   ]
  },
  {
   "cell_type": "code",
   "execution_count": 27,
   "metadata": {
    "id": "OBeNtm2fWl5o"
   },
   "outputs": [],
   "source": [
    "def X_gate():\n",
    "    return np.array([[0, 1], [1, 0]])"
   ]
  },
  {
   "cell_type": "markdown",
   "metadata": {
    "id": "qwvm132bWl5o"
   },
   "source": [
    "### 4. Y (Pauli-Y gate)"
   ]
  },
  {
   "cell_type": "markdown",
   "metadata": {
    "id": "3PEaQD9ZWl5p"
   },
   "source": [
    "Write a function that returns an Y gate."
   ]
  },
  {
   "cell_type": "code",
   "execution_count": 28,
   "metadata": {
    "id": "JZeX0cKdWl5p"
   },
   "outputs": [],
   "source": [
    "def Y_gate():\n",
    "    return np.array([[0, -1j], [1j, 0]])"
   ]
  },
  {
   "cell_type": "markdown",
   "metadata": {
    "id": "o6fvjn8jWl5p"
   },
   "source": [
    "### 5. Z (Pauli-Z gate)"
   ]
  },
  {
   "cell_type": "markdown",
   "metadata": {
    "id": "JFKszbx3Wl5p"
   },
   "source": [
    "Write a function that returns an Z gate."
   ]
  },
  {
   "cell_type": "code",
   "execution_count": 29,
   "metadata": {
    "id": "StMuD_C5Wl5p"
   },
   "outputs": [],
   "source": [
    "def Z_gate():\n",
    "    return np.array([[1, 0], [0, -1]])"
   ]
  },
  {
   "cell_type": "markdown",
   "metadata": {
    "id": "tMYBc-p0Wl5p"
   },
   "source": [
    "### 6. H (Hadamard gate)"
   ]
  },
  {
   "cell_type": "markdown",
   "metadata": {
    "id": "RREh1GKxWl5p"
   },
   "source": [
    "Write a function that returns an H gate."
   ]
  },
  {
   "cell_type": "code",
   "execution_count": 30,
   "metadata": {
    "id": "Dlk8RlgzWl5p"
   },
   "outputs": [],
   "source": [
    "def H_gate():\n",
    "    return 1 / np.sqrt(2) * np.array([[1, 1], [1, -1]])\n"
   ]
  },
  {
   "cell_type": "markdown",
   "metadata": {
    "id": "rApF8z9hWl5q"
   },
   "source": [
    "### 7. S (Phase gate)"
   ]
  },
  {
   "cell_type": "markdown",
   "metadata": {
    "id": "vWvVtS8kWl5q"
   },
   "source": [
    "Write a function that returns an S gate."
   ]
  },
  {
   "cell_type": "code",
   "execution_count": 31,
   "metadata": {
    "id": "YfuyviKzWl5q"
   },
   "outputs": [],
   "source": [
    "def S_gate():\n",
    "    return np.array([[1, 0], [0, 1j]])"
   ]
  },
  {
   "cell_type": "markdown",
   "metadata": {
    "id": "paDROVc7Wl5q"
   },
   "source": [
    "### 8. T (π/4 Phase gate)"
   ]
  },
  {
   "cell_type": "markdown",
   "metadata": {
    "id": "-KTd7dn8Wl5r",
    "tags": []
   },
   "source": [
    "Write a function that returns a T gate."
   ]
  },
  {
   "cell_type": "code",
   "execution_count": 32,
   "metadata": {
    "id": "oiSejQd1Wl5r"
   },
   "outputs": [],
   "source": [
    "def T_gate():\n",
    "    return np.array([[1, 0], [0, np.exp(1j * np.pi / 4)]])"
   ]
  },
  {
   "cell_type": "code",
   "execution_count": 33,
   "metadata": {
    "id": "Iydz71r4Wl5r"
   },
   "outputs": [],
   "source": [
    "gate1 = np.array([[0, 1], [1, 0]])\n",
    "gate2 = np.array([[0.5, 0.5], [0.5, 0.5]])\n",
    "gate3 = np.array([[0, -1j], [1j, 0]])\n",
    "gate4 = np.array([[1, 0], [0, -1]])\n",
    "gate5 = np.array([[0.70710678, 0.70710678], [0.70710678, -0.70710678]])\n",
    "assert np.allclose(X_gate(), gate1)\n",
    "assert np.allclose(Y_gate(), gate3)\n",
    "assert np.allclose(Z_gate(), gate4)\n",
    "assert np.allclose(H_gate(), gate5)\n",
    "assert np.allclose(S_gate(), np.array([[1, 0], [0, 1j]]))\n",
    "assert np.allclose(T_gate(), np.array([[1, 0], [0, np.exp(1j * np.pi / 4)]]))"
   ]
  },
  {
   "cell_type": "markdown",
   "metadata": {
    "id": "U7Xbv_BfWl5r"
   },
   "source": [
    "### 9. Compute Determinant"
   ]
  },
  {
   "cell_type": "markdown",
   "metadata": {
    "id": "rHeAOeF4Wl5s",
    "tags": []
   },
   "source": [
    "Write a function that computes the determinant of a given gate."
   ]
  },
  {
   "cell_type": "code",
   "execution_count": 34,
   "metadata": {
    "id": "bZZEHd11Wl5s"
   },
   "outputs": [],
   "source": [
    "def compute_determinant(gate):\n",
    "    return np.linalg.det(gate)\n"
   ]
  },
  {
   "cell_type": "code",
   "execution_count": 35,
   "metadata": {
    "id": "ajSx5QnKWl5s"
   },
   "outputs": [],
   "source": [
    "gate1 = np.array([[0, 1], [1, 0]])\n",
    "gate2 = np.array([[0.5, 0.5], [0.5, 0.5]])\n",
    "gate3 = np.array([[0, -1j], [1j, 0]])\n",
    "gate4 = np.array([[1, 0], [0, -1]])\n",
    "gate5 = np.array([[0.70710678, 0.70710678], [0.70710678, -0.70710678]])\n",
    "matrix6 = np.array([[5, 4], [3, 7]])\n",
    "assert np.allclose(compute_determinant(gate1), -1)\n",
    "assert np.allclose(compute_determinant(gate2), 0)\n",
    "assert np.allclose(compute_determinant(gate3), -1)\n",
    "assert np.allclose(compute_determinant(gate4), -1)\n",
    "assert np.allclose(compute_determinant(gate5), -1)\n",
    "assert np.allclose(compute_determinant(matrix6), 23)"
   ]
  },
  {
   "cell_type": "markdown",
   "metadata": {
    "id": "fOTYNKUfWl5s"
   },
   "source": [
    "### 10. Given a quantum gate, compute its transpose"
   ]
  },
  {
   "cell_type": "markdown",
   "metadata": {
    "id": "TqRT4MiNWl5s",
    "tags": []
   },
   "source": [
    "Write a function that computes the transpose of a matrix."
   ]
  },
  {
   "cell_type": "code",
   "execution_count": 36,
   "metadata": {
    "id": "cqWGgEMPWl5t"
   },
   "outputs": [],
   "source": [
    "def compute_transpose(matrix):\n",
    "    return matrix.T\n"
   ]
  },
  {
   "cell_type": "code",
   "execution_count": 37,
   "metadata": {
    "id": "tTx1NrinWl5t"
   },
   "outputs": [],
   "source": [
    "matrix1 = np.array([[1, 2], [3, 4]])\n",
    "assert np.array_equal(compute_transpose(matrix1), np.array([[1, 3], [2, 4]]))\n",
    "matrix2 = np.array([[1+1j, 2-1j], [3-1j, 4+1j]])\n",
    "assert np.array_equal(compute_transpose(matrix2), np.array([[1+1j, 3-1j], [2-1j, 4+1j]]))\n",
    "matrix3 = np.array([[1], [2], [3]])\n",
    "assert np.array_equal(compute_transpose(matrix3), np.array([[1, 2, 3]]))\n",
    "matrix4 = np.array([[1+1j], [2-2j], [3]])\n",
    "assert np.array_equal(compute_transpose(matrix4), np.array([[1+1j, 2-2j, 3]]))\n",
    "matrix5 = np.array([[1, 2, 3], [4, 5, 6], [7, 8, 9]])\n",
    "assert np.array_equal(compute_transpose(matrix5), np.array([[1, 4, 7], [2, 5, 8], [3, 6, 9]]))\n",
    "matrix6 = np.array([[1+1j, 2-2j, 3+3j], [4-1j, 5+2j, 6-3j]])\n",
    "assert np.array_equal(compute_transpose(matrix6), np.array([[1+1j, 4-1j], [2-2j, 5+2j], [3+3j, 6-3j]]))\n",
    "matrix7 = np.array([[1, 2, 3, 4], [5, 6, 7, 8]])\n",
    "assert np.array_equal(compute_transpose(matrix7), np.array([[1, 5], [2, 6], [3, 7], [4, 8]]))\n"
   ]
  },
  {
   "cell_type": "markdown",
   "metadata": {
    "id": "Xgu6-LgJWl5t"
   },
   "source": [
    "### 11. Given a quantum gate, compute its adjoint"
   ]
  },
  {
   "cell_type": "markdown",
   "metadata": {
    "id": "T6o_6qYOWl5t",
    "tags": []
   },
   "source": [
    "Write a function that computes the adjoint of a matrix."
   ]
  },
  {
   "cell_type": "code",
   "execution_count": 44,
   "metadata": {
    "id": "42910fznWl5z"
   },
   "outputs": [],
   "source": [
    "def compute_adjoint(matrix):\n",
    "    return np.matrix(matrix).H\n"
   ]
  },
  {
   "cell_type": "code",
   "execution_count": 45,
   "metadata": {
    "id": "6mgHxr_oWl5z"
   },
   "outputs": [],
   "source": [
    "matrix1 = np.array([[1, 2], [3, 4]])\n",
    "assert np.array_equal(compute_adjoint(matrix1), np.array([[1, 3], [2, 4]]))\n",
    "matrix2 = np.array([[1+1j, 2-1j], [3-1j, 4+1j]])\n",
    "assert np.array_equal(compute_adjoint(matrix2), np.array([[1-1j, 3+1j], [2+1j, 4-1j]]))\n",
    "matrix3 = np.array([[1], [2], [3]])\n",
    "assert np.array_equal(compute_adjoint(matrix3), np.array([[1, 2, 3]]))\n",
    "matrix4 = np.array([[1+1j], [2-2j], [3]])\n",
    "assert np.array_equal(compute_adjoint(matrix4), np.array([[1-1j, 2+2j, 3]]))\n",
    "matrix5 = np.array([[1, 2, 3], [4, 5, 6], [7, 8, 9]])\n",
    "assert np.array_equal(compute_adjoint(matrix5), np.array([[1, 4, 7], [2, 5, 8], [3, 6, 9]]))\n",
    "matrix6 = np.array([[1+1j, 2-2j, 3+3j], [4-1j, 5+2j, 6-3j]])\n",
    "assert np.array_equal(compute_adjoint(matrix6), np.array([[1-1j, 4+1j], [2+2j, 5-2j], [3-3j, 6+3j]]))\n",
    "matrix7 = np.array([[1, 2, 3, 4], [5, 6, 7, 8]])\n",
    "assert np.array_equal(compute_adjoint(matrix7), np.array([[1, 5], [2, 6], [3, 7], [4, 8]]))"
   ]
  },
  {
   "cell_type": "markdown",
   "metadata": {
    "id": "QQSkjVG9Wl5z"
   },
   "source": [
    "### 12. Given a list of quantum gates, compute their sum"
   ]
  },
  {
   "cell_type": "markdown",
   "metadata": {
    "id": "TtOpjkrpWl50",
    "tags": []
   },
   "source": [
    "Write a function that receives a np array of matrices and computes their sum."
   ]
  },
  {
   "cell_type": "code",
   "execution_count": 51,
   "metadata": {
    "id": "O0Xia-Y2Wl50"
   },
   "outputs": [],
   "source": [
    "def add_gates(gate_list):\n",
    "    return np.sum(gate_list, axis=0)\n"
   ]
  },
  {
   "cell_type": "code",
   "execution_count": 52,
   "metadata": {},
   "outputs": [
    {
     "name": "stdout",
     "output_type": "stream",
     "text": [
      "[[5 5]\n",
      " [5 5]]\n"
     ]
    }
   ],
   "source": [
    "print(add_gates([gate1, gate2]))"
   ]
  },
  {
   "cell_type": "code",
   "execution_count": 53,
   "metadata": {
    "id": "VyLBgBf-Wl50"
   },
   "outputs": [],
   "source": [
    "gate1 = np.array([[1, 2], [3, 4]])\n",
    "gate2 = np.array([[4, 3], [2, 1]])\n",
    "gate3 = np.array([[1+1j, 2-1j], [2+1j, 1-1j]])\n",
    "gate4 = np.array([[0, 1j], [-1j, 0]])\n",
    "gate5 = np.array([[1, 0], [0, 1]])\n",
    "\n",
    "assert np.array_equal(add_gates([gate1, gate2]), np.array([[5, 5], [5, 5]]))\n",
    "assert np.array_equal(add_gates([gate1, gate3]), np.array([[2+1j, 4-1j], [5+1j, 5-1j]]))\n",
    "assert np.array_equal(add_gates([gate3, gate4]), np.array([[1+1j, 2], [2, 1-1j]]))\n",
    "assert np.array_equal(add_gates([gate1, gate4, gate5]), np.array([[2, 2+1j], [3-1j, 5]]))\n",
    "assert np.array_equal(add_gates([gate2, gate5]), np.array([[5, 3], [2, 2]]))\n"
   ]
  },
  {
   "cell_type": "markdown",
   "metadata": {
    "id": "Lo-EmSDgWl50"
   },
   "source": [
    "### 13. Given a list of quantum gates, compute their product"
   ]
  },
  {
   "cell_type": "markdown",
   "metadata": {
    "id": "ggWCKzpSWl50",
    "tags": []
   },
   "source": [
    "Write a function that receives a np array of matrices and computes their product."
   ]
  },
  {
   "cell_type": "code",
   "execution_count": 80,
   "metadata": {
    "id": "cpOCCeNdWl52"
   },
   "outputs": [],
   "source": [
    "def multiply_gates(gates):\n",
    "    rez = gates[0]\n",
    "    for i in range(1, len(gates)):\n",
    "        rez = np.matmul(rez, gates[i])\n",
    "    return rez"
   ]
  },
  {
   "cell_type": "code",
   "execution_count": 81,
   "metadata": {},
   "outputs": [
    {
     "name": "stdout",
     "output_type": "stream",
     "text": [
      "[[ 8  5]\n",
      " [20 13]]\n"
     ]
    }
   ],
   "source": [
    "print(multiply_gates([gate1, gate2]))"
   ]
  },
  {
   "cell_type": "code",
   "execution_count": 82,
   "metadata": {},
   "outputs": [
    {
     "name": "stdout",
     "output_type": "stream",
     "text": [
      "[[0.-2.j 0.+1.j]\n",
      " [0.-4.j 0.+3.j]]\n"
     ]
    }
   ],
   "source": [
    "print(multiply_gates([gate1, gate4]))"
   ]
  },
  {
   "cell_type": "code",
   "execution_count": 83,
   "metadata": {},
   "outputs": [
    {
     "name": "stdout",
     "output_type": "stream",
     "text": [
      "[[0.+0.j 0.+0.j]\n",
      " [0.+0.j 0.+0.j]]\n"
     ]
    }
   ],
   "source": [
    "print(multiply_gates([multiply_gates([gate1, gate4]), gate5]))"
   ]
  },
  {
   "cell_type": "code",
   "execution_count": 84,
   "metadata": {
    "id": "CHOFE27uWl52"
   },
   "outputs": [],
   "source": [
    "gate1 = np.array([[1, 2], [3, 4]])\n",
    "gate2 = np.array([[4, 3], [2, 1]])\n",
    "gate3 = np.array([[1+1j, 2-1j], [2+1j, 1-1j]])\n",
    "gate4 = np.array([[0, 1j], [-1j, 0]])\n",
    "gate5 = np.array([[1, 0], [0, 1]])\n",
    "assert np.array_equal(multiply_gates([gate1, gate2]), np.array([[8, 5], [20, 13]]))\n",
    "assert np.array_equal(multiply_gates([gate1, gate3]), np.array([[5+3j, 4-3j], [11+7j, 10-7j]]))\n",
    "assert np.array_equal(multiply_gates([gate3, gate4]), np.array([[-1-2j, -1+1j], [-1-1j, -1+2j]]))\n",
    "assert np.array_equal(multiply_gates([gate1, gate4, gate5]), np.array([[-2j, 1j], [-4j, 3j]]))\n",
    "assert np.array_equal(multiply_gates([gate2, gate5, gate3]), np.array([[10+7j, 11-7j], [4+3j, 5-3j]]))\n"
   ]
  },
  {
   "cell_type": "markdown",
   "metadata": {
    "id": "tyAa-kbZWl52"
   },
   "source": [
    "### 14. Given a matrix and a constant, multiply them"
   ]
  },
  {
   "cell_type": "markdown",
   "metadata": {
    "id": "iwyPHfgpWl52",
    "tags": []
   },
   "source": [
    "Write a function that receives a matrix and a constant and computes their product."
   ]
  },
  {
   "cell_type": "code",
   "execution_count": 85,
   "metadata": {
    "id": "LxexaLEUWl53"
   },
   "outputs": [],
   "source": [
    "def multiply_constant(matrix, constant):\n",
    "    return constant * matrix\n"
   ]
  },
  {
   "cell_type": "code",
   "execution_count": 86,
   "metadata": {
    "id": "ah8lHh_qWl53"
   },
   "outputs": [],
   "source": [
    "matrix1 = np.array([[1, 2], [3, 4]])\n",
    "matrix2 = np.array([[4, 3], [2, 1]])\n",
    "matrix3 = np.array([[1+1j, 2-1j], [2+1j, 1-1j]])\n",
    "matrix4 = np.array([[0, 1j], [-1j, 0]])\n",
    "\n",
    "const1 = 2\n",
    "const2 = -1\n",
    "const3 = 1j\n",
    "assert np.array_equal(multiply_constant(matrix1, const1), np.array([[2, 4], [6, 8]]))\n",
    "assert np.array_equal(multiply_constant(matrix2, const2), np.array([[-4, -3], [-2, -1]]))\n",
    "assert np.array_equal(multiply_constant(matrix3, const3), np.array([[-1+1j, 1+2j], [-1+2j, 1+1j]]))\n",
    "assert np.array_equal(multiply_constant(matrix4, const1), np.array([[0, 2j], [-2j, 0]]))\n",
    "assert np.array_equal(multiply_constant(matrix1, const3), np.array([[1j, 2j], [3j, 4j]]))\n"
   ]
  },
  {
   "cell_type": "markdown",
   "metadata": {
    "id": "0KvZKMLzWl53"
   },
   "source": [
    "### 15. Given a matrix, compute its rank."
   ]
  },
  {
   "cell_type": "markdown",
   "metadata": {
    "id": "s7UUmFUvWl53",
    "tags": []
   },
   "source": [
    "Write a function that computes the rank of a matrix."
   ]
  },
  {
   "cell_type": "code",
   "execution_count": 87,
   "metadata": {
    "id": "2FZ6te2sWl53"
   },
   "outputs": [],
   "source": [
    "def compute_rank(matrix):\n",
    "    return np.linalg.matrix_rank(matrix)\n"
   ]
  },
  {
   "cell_type": "code",
   "execution_count": 88,
   "metadata": {
    "id": "xRR9jOmwWl54"
   },
   "outputs": [],
   "source": [
    "matrix1 = np.array([[1, 2, 3], [0, 1, 4], [0, 0, 0]])\n",
    "matrix2 = np.array([[2, 3], [4, 6]])\n",
    "matrix3 = np.array([[1+1j, 2-1j], [2+1j, 1-1j]])\n",
    "matrix4 = np.array([[0, 1j], [-1j, 0]])\n",
    "matrix5 = np.array([[1, 2], [3, 6]])\n",
    "\n",
    "assert compute_rank(matrix1) == 2\n",
    "assert compute_rank(matrix2) == 1\n",
    "assert compute_rank(matrix3) == 2\n",
    "assert compute_rank(matrix4) == 2\n",
    "assert compute_rank(matrix5) == 1\n"
   ]
  },
  {
   "cell_type": "markdown",
   "metadata": {
    "id": "ebEecItJWl54"
   },
   "source": [
    "### 16. Check Quantum Gate Validity"
   ]
  },
  {
   "cell_type": "markdown",
   "metadata": {
    "id": "KtElmAmBWl54",
    "tags": []
   },
   "source": [
    "Write a function that checks whether a gate is valid (returns boolean)."
   ]
  },
  {
   "cell_type": "code",
   "execution_count": 93,
   "metadata": {
    "id": "0EXCNVYNWl54"
   },
   "outputs": [],
   "source": [
    "def is_valid_gate(gate):\n",
    "    return np.allclose(np.matrix(gate) @ np.matrix(gate).H,  np.eye(gate.shape[0]))"
   ]
  },
  {
   "cell_type": "code",
   "execution_count": 94,
   "metadata": {
    "id": "j7D2qauUWl54"
   },
   "outputs": [],
   "source": [
    "gate1 = np.array([[0, 1], [1, 0]])\n",
    "gate2 = np.array([[0.5, 0.5], [0.5, 0.5]])\n",
    "gate3 = np.array([[0, -1j], [1j, 0]])\n",
    "gate4 = np.array([[1, 0], [0, -1]])\n",
    "gate5 = np.array([[0.70710678, 0.70710678], [0.70710678, -0.70710678]])\n",
    "matrix6 = np.array([[5, 4], [3, 7]])\n",
    "assert is_valid_gate(gate1)\n",
    "assert not is_valid_gate(gate2)\n",
    "assert is_valid_gate(gate3)\n",
    "assert is_valid_gate(gate4)\n",
    "assert is_valid_gate(gate5)\n",
    "assert not is_valid_gate(matrix6)"
   ]
  },
  {
   "cell_type": "markdown",
   "metadata": {
    "id": "urt8fL40Wl54"
   },
   "source": [
    "### 17. Compute Eigenvalues and Eigenvectors"
   ]
  },
  {
   "cell_type": "markdown",
   "metadata": {
    "id": "zmfCJBJ7Wl55",
    "tags": []
   },
   "source": [
    "Write a function that computes the eigenvalues and eigenvectors of a given matrix."
   ]
  },
  {
   "cell_type": "code",
   "execution_count": 95,
   "metadata": {
    "id": "_ZfDGWuXWl55"
   },
   "outputs": [],
   "source": [
    "def get_eigen(gate):\n",
    "    eigenvalues, eigenvectors = np.linalg.eig(gate)\n",
    "    return eigenvalues, eigenvectors\n"
   ]
  },
  {
   "cell_type": "code",
   "execution_count": 96,
   "metadata": {
    "id": "bqqMo_gLWl55"
   },
   "outputs": [],
   "source": [
    "gate1 = np.array([[2, 0], [0, 3]])\n",
    "gate2 = np.array([[1, -1], [1, 1]])\n",
    "gate3 = np.array([[0, -1j], [1j, 0]])\n",
    "gate4 = np.array([[2, 1], [1, 2]])\n",
    "gate5 = np.array([[3, 2], [0, 1]])\n",
    "\n",
    "eigenvalues1, eigenvectors1 = get_eigen(gate1)\n",
    "eigenvalues2, eigenvectors2 = get_eigen(gate2)\n",
    "eigenvalues3, eigenvectors3 = get_eigen(gate3)\n",
    "eigenvalues4, eigenvectors4 = get_eigen(gate4)\n",
    "eigenvalues5, eigenvectors5 = get_eigen(gate5)\n",
    "\n",
    "assert np.allclose(eigenvalues1, [2, 3])\n",
    "assert np.allclose(eigenvalues2, [1+1j, 1-1j])\n",
    "assert np.allclose(eigenvalues3, [1, -1])\n",
    "assert np.allclose(eigenvalues4, [3, 1])\n",
    "assert np.allclose(eigenvalues5, [3, 1])\n",
    "\n",
    "assert np.allclose(np.dot(gate1, eigenvectors1[:, 0]), eigenvalues1[0] * eigenvectors1[:, 0])\n",
    "assert np.allclose(np.dot(gate2, eigenvectors2[:, 1]), eigenvalues2[1] * eigenvectors2[:, 1])\n",
    "assert np.allclose(np.dot(gate3, eigenvectors3[:, 0]), eigenvalues3[0] * eigenvectors3[:, 0])\n",
    "assert np.allclose(np.dot(gate4, eigenvectors4[:, 1]), eigenvalues4[1] * eigenvectors4[:, 1])\n",
    "assert np.allclose(np.dot(gate5, eigenvectors5[:, 0]), eigenvalues5[0] * eigenvectors5[:, 0])\n"
   ]
  },
  {
   "cell_type": "markdown",
   "metadata": {
    "id": "HwQRbmBkWl55"
   },
   "source": [
    "### 18. Convert from Computational to +/- Basis"
   ]
  },
  {
   "cell_type": "markdown",
   "metadata": {
    "id": "edvc_PhiWl56",
    "tags": []
   },
   "source": [
    "Write a function that receives a state in computational basis and returns the state converted to +/- basis."
   ]
  },
  {
   "cell_type": "code",
   "execution_count": 97,
   "metadata": {
    "id": "KQbTFnXEWl56"
   },
   "outputs": [],
   "source": [
    "def computational_to_plus_minus(state):\n",
    "    return H_gate() @ state\n"
   ]
  },
  {
   "cell_type": "code",
   "execution_count": 98,
   "metadata": {
    "id": "Br9yno8fWl56"
   },
   "outputs": [],
   "source": [
    "state_in_computational = np.array([0.70710678, 0.70710678])\n",
    "state_in_plus_minus = np.array([1, 0])\n",
    "assert np.allclose(computational_to_plus_minus(state_in_computational), state_in_plus_minus)"
   ]
  },
  {
   "cell_type": "markdown",
   "metadata": {
    "id": "-Qb_BmmhWl56"
   },
   "source": [
    "### 19. Convert from +/- to Computational Basis"
   ]
  },
  {
   "cell_type": "markdown",
   "metadata": {
    "id": "H21dzGE0Wl57",
    "tags": []
   },
   "source": [
    "Write a function that receives a state in +/- basis and returns the state converted to computational basis."
   ]
  },
  {
   "cell_type": "code",
   "execution_count": 99,
   "metadata": {
    "id": "tzxY9YLKWl57",
    "tags": []
   },
   "outputs": [],
   "source": [
    "def plus_minus_to_computational(state):\n",
    "    return H_gate() @ state\n"
   ]
  },
  {
   "cell_type": "code",
   "execution_count": 100,
   "metadata": {
    "id": "rEyjNsQxWl57"
   },
   "outputs": [],
   "source": [
    "state_in_computational = np.array([0.70710678, 0.70710678])\n",
    "state_in_plus_minus = np.array([1, 0])\n",
    "assert np.allclose(plus_minus_to_computational(state_in_plus_minus), state_in_computational)"
   ]
  },
  {
   "cell_type": "markdown",
   "metadata": {
    "id": "CJcd9W5jWl57"
   },
   "source": [
    "### 20. Apply SQG to State"
   ]
  },
  {
   "cell_type": "markdown",
   "metadata": {
    "id": "ZEz-BLO0Wl58",
    "tags": []
   },
   "source": [
    "Write a function that receives a state and a gate and returns the resulting state obtained by applying the gate."
   ]
  },
  {
   "cell_type": "code",
   "execution_count": 101,
   "metadata": {
    "id": "0_Lx2_q9Wl58"
   },
   "outputs": [],
   "source": [
    "def apply_gate(state, gate):\n",
    "    return gate @ state\n"
   ]
  },
  {
   "cell_type": "code",
   "execution_count": 102,
   "metadata": {
    "id": "Hwa9lKIzWl58"
   },
   "outputs": [],
   "source": [
    "state1 = np.array([0.6, 0.8])\n",
    "gate1 = np.array([[0, 1], [1, 0]])\n",
    "gate3 = np.array([[0, -1j], [1j, 0]])\n",
    "assert np.allclose(apply_gate(gate1, state1), np.array([0.8, 0.6]))\n",
    "assert np.allclose(apply_gate(gate3, state1), np.array([0.8j, -0.6j]))"
   ]
  },
  {
   "cell_type": "markdown",
   "metadata": {
    "id": "N3hHUIP-Wl58"
   },
   "source": [
    "### 21. Measure in Computational Basis"
   ]
  },
  {
   "cell_type": "markdown",
   "metadata": {
    "id": "wCeFYSDsWl58",
    "tags": []
   },
   "source": [
    "Write a function that receives a state and measures it in computational basis. The function should return 0 or 1."
   ]
  },
  {
   "cell_type": "code",
   "execution_count": 103,
   "metadata": {
    "id": "rNkri0uVWl59"
   },
   "outputs": [],
   "source": [
    "import random\n",
    "\n",
    "def measure_computational(state):\n",
    "    return random.binomialvariate(1, state[1]**2)"
   ]
  },
  {
   "cell_type": "code",
   "execution_count": 107,
   "metadata": {},
   "outputs": [
    {
     "name": "stdout",
     "output_type": "stream",
     "text": [
      "0\n",
      "0\n",
      "1\n",
      "1\n",
      "0\n",
      "1\n",
      "0\n",
      "1\n",
      "1\n",
      "0\n"
     ]
    }
   ],
   "source": [
    "for i in range(10):\n",
    "    print(measure_computational(np.array([1/np.sqrt(2), 1/np.sqrt(2)])))"
   ]
  },
  {
   "cell_type": "code",
   "execution_count": 108,
   "metadata": {
    "id": "Pm4Gr3GhWl59"
   },
   "outputs": [],
   "source": [
    "state1 = np.array([0.6, 0.8])\n",
    "state10 = np.array([1, 0])\n",
    "state01 = np.array([0, 1])\n",
    "assert measure_computational(state1) in [0, 1]\n",
    "assert measure_computational(state1) in [0, 1]\n",
    "assert measure_computational(state1) in [0, 1]\n",
    "assert measure_computational(state1) in [0, 1]\n",
    "assert measure_computational(state1) in [0, 1]\n",
    "assert measure_computational(state10) == 0\n",
    "assert measure_computational(state01) == 1"
   ]
  },
  {
   "cell_type": "markdown",
   "metadata": {
    "id": "Jc28c1rbWl59"
   },
   "source": [
    "### 22. Measure in +/- Basis"
   ]
  },
  {
   "cell_type": "markdown",
   "metadata": {
    "id": "AXeTOokQWl59",
    "tags": []
   },
   "source": [
    "Write a function that receives a state (in computational basis) and measures it in +/- basis. The function should return '+' or '-'"
   ]
  },
  {
   "cell_type": "code",
   "execution_count": 109,
   "metadata": {
    "id": "LvhojT9mWl59"
   },
   "outputs": [],
   "source": [
    "def measure_plus_minus(state):\n",
    "    return '+' if measure_computational(apply_gate(H_gate(), state)) == 0 else '-' \n"
   ]
  },
  {
   "cell_type": "code",
   "execution_count": 110,
   "metadata": {
    "id": "239UNilcWl5-"
   },
   "outputs": [],
   "source": [
    "statepm10 = np.array([1/np.sqrt(2), 1/np.sqrt(2)])\n",
    "statepm01 = np.array([1/np.sqrt(2), -1/np.sqrt(2)])\n",
    "assert measure_plus_minus(statepm10) == '+'\n",
    "assert measure_plus_minus(statepm10) == '+'\n",
    "assert measure_plus_minus(statepm10) == '+'\n",
    "assert measure_plus_minus(statepm10) == '+'\n",
    "assert measure_plus_minus(statepm10) == '+'\n",
    "assert measure_plus_minus(statepm01) == '-'"
   ]
  },
  {
   "cell_type": "markdown",
   "metadata": {
    "id": "2oQVmKLEWl5-",
    "tags": []
   },
   "source": [
    "### 23. Change to Polar Coordinates"
   ]
  },
  {
   "cell_type": "markdown",
   "metadata": {
    "id": "yKEXiTM7Wl5-",
    "tags": []
   },
   "source": [
    "Write a function that receives a state and computes its polar coordinates. The returned outputs must be theta (the angle), phi (the phase), and omega (the global phase which can be ignored).\n",
    "Hint: https://quantumcomputing.stackexchange.com/questions/26431/can-i-convert-a-qubit-in-complex-form-to-polar-form"
   ]
  },
  {
   "cell_type": "code",
   "execution_count": 111,
   "metadata": {
    "id": "6-al03kpWl5-"
   },
   "outputs": [],
   "source": [
    "import cmath\n",
    "\n",
    "def to_polar(state):\n",
    "    r1, phi1 = cmath.polar(state[0])\n",
    "    r2, phi2 = cmath.polar(state[1])\n",
    "\n",
    "\n",
    "    theta = 2 * cmath.acos(r1)\n",
    "    omega = phi1\n",
    "    phi = phi2 - phi1\n",
    "    return theta, phi, omega"
   ]
  },
  {
   "cell_type": "code",
   "execution_count": 112,
   "metadata": {
    "id": "AiqV-FuWWl5-"
   },
   "outputs": [],
   "source": [
    "# 1. Basic |0> state\n",
    "state_1 = [1, 0]\n",
    "expected_1 = (0, 0, 0)\n",
    "result_1 = to_polar(state_1)\n",
    "assert np.isclose(result_1, expected_1).all(), f\"Expected {expected_1}, got {result_1}\"\n",
    "\n",
    "# 2. Basic |1> state\n",
    "state_2 = [0, 1]\n",
    "expected_2 = (np.pi, 0, 0)\n",
    "result_2 = to_polar(state_2)\n",
    "assert np.isclose(result_2, expected_2).all(), f\"Expected {expected_2}, got {result_2}\"\n",
    "\n",
    "# 3. Equal superposition with no phase difference\n",
    "state_3 = [np.sqrt(0.5), np.sqrt(0.5)]\n",
    "expected_3 = (np.pi/2, 0, 0)\n",
    "result_3 = to_polar(state_3)\n",
    "assert np.isclose(result_3, expected_3).all(), f\"Expected {expected_3}, got {result_3}\"\n",
    "\n",
    "# 4. Equal superposition with a phase difference\n",
    "state_4 = [np.sqrt(0.5), np.sqrt(0.5) * np.exp(1j * np.pi/3)]\n",
    "expected_4 = (np.pi/2, np.pi/3, 0)\n",
    "result_4 = to_polar(state_4)\n",
    "assert np.isclose(result_4, expected_4).all(), f\"Expected {expected_4}, got {result_4}\"\n",
    "\n",
    "# 5. Complex coefficients\n",
    "state_5 = [1/3 + 2j/3, 2/3 - 1j/3]\n",
    "expected_5 = (1.4594553124539327, -1.5707963267948966, 1.1071487177940904)\n",
    "result_5 = to_polar(state_5)\n",
    "assert np.isclose(result_5, expected_5).all(), f\"Expected {expected_5}, got {result_5}\"\n",
    "\n",
    "# 6. Another complex coefficient example\n",
    "state_6 = [0.5 + 0.5j, 0.5 - 0.5j]\n",
    "expected_6 = (np.pi/2, -np.pi/2, np.pi/4)\n",
    "result_6 = to_polar(state_6)\n",
    "assert np.isclose(result_6, expected_6).all(), f\"Expected {expected_6}, got {result_6}\"\n",
    "\n",
    "# 7. Yet another complex coefficient case\n",
    "state_7 = [0.6 + 0.8j, -0.8 + 0.6j]\n",
    "expected_7 = (0, np.pi/2, 0.9272952180016122)\n",
    "result_7 = to_polar(state_7)\n",
    "assert np.isclose(result_7, expected_7).all(), f\"Expected {expected_7}, got {result_7}\""
   ]
  },
  {
   "cell_type": "markdown",
   "metadata": {
    "id": "-wGO14IDWl5_"
   },
   "source": [
    "### 24. Represent the probabilities of measurement"
   ]
  },
  {
   "cell_type": "markdown",
   "metadata": {
    "id": "o9MfunE7Wl5_",
    "tags": []
   },
   "source": [
    "Write a function that receives a state (in computational basis) and draws a bar chart to represent the probabilities of measurement in computational basis."
   ]
  },
  {
   "cell_type": "code",
   "execution_count": 114,
   "metadata": {},
   "outputs": [
    {
     "name": "stdout",
     "output_type": "stream",
     "text": [
      "Collecting matplotlib\n",
      "  Downloading matplotlib-3.9.2-cp313-cp313-win_amd64.whl.metadata (11 kB)\n",
      "Collecting contourpy>=1.0.1 (from matplotlib)\n",
      "  Downloading contourpy-1.3.0-cp313-cp313-win_amd64.whl.metadata (5.4 kB)\n",
      "Collecting cycler>=0.10 (from matplotlib)\n",
      "  Using cached cycler-0.12.1-py3-none-any.whl.metadata (3.8 kB)\n",
      "Collecting fonttools>=4.22.0 (from matplotlib)\n",
      "  Downloading fonttools-4.54.1-cp313-cp313-win_amd64.whl.metadata (167 kB)\n",
      "Collecting kiwisolver>=1.3.1 (from matplotlib)\n",
      "  Downloading kiwisolver-1.4.7-cp313-cp313-win_amd64.whl.metadata (6.4 kB)\n",
      "Requirement already satisfied: numpy>=1.23 in c:\\users\\home\\anaconda3\\envs\\pulse\\lib\\site-packages (from matplotlib) (2.1.3)\n",
      "Requirement already satisfied: packaging>=20.0 in c:\\users\\home\\anaconda3\\envs\\pulse\\lib\\site-packages (from matplotlib) (24.1)\n",
      "Collecting pillow>=8 (from matplotlib)\n",
      "  Downloading pillow-11.0.0-cp313-cp313-win_amd64.whl.metadata (9.3 kB)\n",
      "Collecting pyparsing>=2.3.1 (from matplotlib)\n",
      "  Using cached pyparsing-3.2.0-py3-none-any.whl.metadata (5.0 kB)\n",
      "Requirement already satisfied: python-dateutil>=2.7 in c:\\users\\home\\anaconda3\\envs\\pulse\\lib\\site-packages (from matplotlib) (2.9.0)\n",
      "Requirement already satisfied: six>=1.5 in c:\\users\\home\\anaconda3\\envs\\pulse\\lib\\site-packages (from python-dateutil>=2.7->matplotlib) (1.16.0)\n",
      "Downloading matplotlib-3.9.2-cp313-cp313-win_amd64.whl (7.8 MB)\n",
      "   ---------------------------------------- 0.0/7.8 MB ? eta -:--:--\n",
      "   ---- ----------------------------------- 0.8/7.8 MB 4.8 MB/s eta 0:00:02\n",
      "   --------- ------------------------------ 1.8/7.8 MB 5.2 MB/s eta 0:00:02\n",
      "   -------------- ------------------------- 2.9/7.8 MB 5.2 MB/s eta 0:00:01\n",
      "   -------------------- ------------------- 3.9/7.8 MB 5.3 MB/s eta 0:00:01\n",
      "   ---------------------------- ----------- 5.5/7.8 MB 5.5 MB/s eta 0:00:01\n",
      "   ---------------------------------- ----- 6.8/7.8 MB 5.7 MB/s eta 0:00:01\n",
      "   ---------------------------------------- 7.8/7.8 MB 5.6 MB/s eta 0:00:00\n",
      "Downloading contourpy-1.3.0-cp313-cp313-win_amd64.whl (218 kB)\n",
      "Using cached cycler-0.12.1-py3-none-any.whl (8.3 kB)\n",
      "Downloading fonttools-4.54.1-cp313-cp313-win_amd64.whl (2.2 MB)\n",
      "   ---------------------------------------- 0.0/2.2 MB ? eta -:--:--\n",
      "   ----------------------- ---------------- 1.3/2.2 MB 6.6 MB/s eta 0:00:01\n",
      "   ---------------------------------------- 2.2/2.2 MB 6.2 MB/s eta 0:00:00\n",
      "Downloading kiwisolver-1.4.7-cp313-cp313-win_amd64.whl (55 kB)\n",
      "Downloading pillow-11.0.0-cp313-cp313-win_amd64.whl (2.6 MB)\n",
      "   ---------------------------------------- 0.0/2.6 MB ? eta -:--:--\n",
      "   ---------------- ----------------------- 1.0/2.6 MB 6.8 MB/s eta 0:00:01\n",
      "   ---------------------------------------- 2.6/2.6 MB 6.3 MB/s eta 0:00:00\n",
      "Using cached pyparsing-3.2.0-py3-none-any.whl (106 kB)\n",
      "Installing collected packages: pyparsing, pillow, kiwisolver, fonttools, cycler, contourpy, matplotlib\n",
      "Successfully installed contourpy-1.3.0 cycler-0.12.1 fonttools-4.54.1 kiwisolver-1.4.7 matplotlib-3.9.2 pillow-11.0.0 pyparsing-3.2.0\n"
     ]
    }
   ],
   "source": [
    "!pip install matplotlib"
   ]
  },
  {
   "cell_type": "code",
   "execution_count": 120,
   "metadata": {
    "id": "xzPTkbw4Wl5_"
   },
   "outputs": [],
   "source": [
    "import matplotlib.pyplot as plt\n",
    "import numpy as np\n",
    "\n",
    "def plot_state_probabilities(state):\n",
    "    p = state[0]**2\n",
    "    plt.bar(['0', '1'], [p, 1-p])\n",
    "    \n"
   ]
  },
  {
   "cell_type": "code",
   "execution_count": 121,
   "metadata": {
    "id": "CG77F99OWl5_"
   },
   "outputs": [
    {
     "data": {
      "image/png": "[encoded data removed]",
      "text/plain": [
       "<Figure size 640x480 with 1 Axes>"
      ]
     },
     "metadata": {},
     "output_type": "display_data"
    }
   ],
   "source": [
    "plot_state_probabilities([1, 0])"
   ]
  },
  {
   "cell_type": "markdown",
   "metadata": {
    "id": "jghbftcqWl5_"
   },
   "source": [
    "### 25. Represent the Bloch sphere"
   ]
  },
  {
   "cell_type": "markdown",
   "metadata": {
    "id": "aA_6TSJ_Wl6A",
    "tags": []
   },
   "source": [
    "Write a function that receives a state (in computational basis) and represents it as a Bloch sphere."
   ]
  },
  {
   "cell_type": "code",
   "execution_count": 154,
   "metadata": {
    "id": "RVfBZ457Wl6A"
   },
   "outputs": [],
   "source": [
    "import matplotlib.pyplot as plt\n",
    "import numpy as np\n",
    "\n",
    "def plot_bloch_representation(state):    \n",
    "    fig = plt.figure()\n",
    "    ax = fig.add_subplot(projection='3d')\n",
    "\n",
    "\n",
    "    # Make data\n",
    "    u = np.linspace(0, 2 * np.pi, 20)\n",
    "    v = np.linspace(0, np.pi, 20)\n",
    "    x = np.outer(np.cos(u), np.sin(v))\n",
    "    y = np.outer(np.sin(u), np.sin(v))\n",
    "    z = np.outer(np.ones(np.size(u)), np.cos(v))\n",
    "\n",
    "    # Plot the surface\n",
    "    ax.plot_wireframe(x, y, z)\n",
    "\n",
    "    theta, phi, omega = to_polar(state)\n",
    "    x = np.sin(theta) * np.cos(phi)\n",
    "    y = np.sin(theta) * np.sin(phi)\n",
    "    z = np.cos(theta)\n",
    "    print(x)\n",
    "    print(y)\n",
    "    print(z)\n",
    "    ax.plot(np.array([np.real(x)]), np.array([np.real(y)]), np.array([np.real(z)]), 'ro', linewidth=2, markersize=15)    \n",
    "\n",
    "    # Set an equal aspect ratio\n",
    "    ax.set_aspect('equal')\n",
    "\n",
    "    plt.show()\n",
    "    "
   ]
  },
  {
   "cell_type": "code",
   "execution_count": 153,
   "metadata": {
    "id": "3YIborPVWl6A"
   },
   "outputs": [
    {
     "name": "stdout",
     "output_type": "stream",
     "text": [
      "(1+0j)\n",
      "0j\n",
      "(6.123233995736766e-17-0j)\n"
     ]
    },
    {
     "data": {
      "image/png": "[encoded data removed]",
      "text/plain": [
       "<Figure size 640x480 with 1 Axes>"
      ]
     },
     "metadata": {},
     "output_type": "display_data"
    }
   ],
   "source": [
    "import matplotlib.pyplot as plt\n",
    "import numpy as np\n",
    "from itertools import product, combinations\n",
    "import matplotlib.pyplot as plt\n",
    "import numpy as np\n",
    "\n",
    "state = [1/np.sqrt(2), 1/np.sqrt(2)]\n",
    "\n",
    "fig = plt.figure()\n",
    "ax = fig.add_subplot(projection='3d')\n",
    "\n",
    "\n",
    "# Make data\n",
    "u = np.linspace(0, 2 * np.pi, 20)\n",
    "v = np.linspace(0, np.pi, 20)\n",
    "x = np.outer(np.cos(u), np.sin(v))\n",
    "y = np.outer(np.sin(u), np.sin(v))\n",
    "z = np.outer(np.ones(np.size(u)), np.cos(v))\n",
    "\n",
    "# Plot the surface\n",
    "ax.plot_wireframe(x, y, z)\n",
    "\n",
    "theta, phi, omega = to_polar(state)\n",
    "x = np.sin(theta) * np.cos(phi)\n",
    "y = np.sin(theta) * np.sin(phi)\n",
    "z = np.cos(theta)\n",
    "print(x)\n",
    "print(y)\n",
    "print(z)\n",
    "ax.plot(np.array([np.real(x)]), np.array([np.real(y)]), np.array([np.real(z)]), 'ro', linewidth=2, markersize=15)    \n",
    "\n",
    "# Set an equal aspect ratio\n",
    "ax.set_aspect('equal')\n",
    "\n",
    "plt.show()"
   ]
  },
  {
   "cell_type": "markdown",
   "metadata": {
    "id": "R_04j4icWl6A"
   },
   "source": [
    "### 26. Represent eigenvalues and eigenvectors"
   ]
  },
  {
   "cell_type": "markdown",
   "metadata": {
    "id": "BPdkT6V0Wl6A",
    "tags": []
   },
   "source": [
    "Write a function that receives a gate and represents its eigenvectors. Suggestion: take random points on a plane (i.e. random vectors) and represent with lines or arrows the effect of the matrix on those vectors. The eigenvectors should change only by a constant factor, which is the eigenvalue."
   ]
  },
  {
   "cell_type": "code",
   "execution_count": 199,
   "metadata": {
    "id": "4R0CjN1qWl6B"
   },
   "outputs": [],
   "source": [
    "import matplotlib.pyplot as plt\n",
    "import numpy as np\n",
    "\n",
    "def plot_gate_representation(gate):\n",
    "    eigenvalues, eigenvectors = get_eigen(gate)\n",
    "    n = 10\n",
    "    coords_init = np.random.randint(-10, 10, size=(2, n))\n",
    "    print(coords_init)\n",
    "    origin = [0, 0]\n",
    "    plt.scatter(coords_init[0], coords_init[1])\n",
    "    plt.scatter(origin[0], origin[1])\n",
    "    \n",
    "    for i in range(n):\n",
    "        vector = np.array([[coords_init[0][i]], [coords_init[1][i]]])\n",
    "        vector_new = gate @ vector\n",
    "        print(f'vector = {vector}, vector_new={vector_new}')\n",
    "        plt.arrow(vector[0][0], vector[1][0], vector_new[0][0]-vector[0][0], vector_new[1][0]-vector[1][0], head_width = 0.2)\n",
    "\n",
    "    for i in range(2):\n",
    "        vector = eigenvectors[i]\n",
    "        vector_new = gate @ vector\n",
    "        print(f'vector = {vector}, vector_new={vector_new}')\n",
    "        plt.arrow(origin[0], origin[1], vector[0], vector[1], color='r', head_width = 0.2)\n",
    "        plt.arrow(vector[0], vector[1], vector_new[0]-vector[0], vector_new[1]-vector[1], color='b', head_width = 0.2)\n",
    "\n",
    "\n",
    "    plt.show()\n",
    "\n"
   ]
  },
  {
   "cell_type": "code",
   "execution_count": 200,
   "metadata": {
    "id": "ArZLXyfnWl6B"
   },
   "outputs": [
    {
     "name": "stdout",
     "output_type": "stream",
     "text": [
      "[[-9  4 -4 -2 -9 -4  9  3  0  2]\n",
      " [-3  5  3 -2 -5 -5 -1 -4  2  4]]\n",
      "vector = [[-9]\n",
      " [-3]], vector_new=[[-3]\n",
      " [-9]]\n",
      "vector = [[4]\n",
      " [5]], vector_new=[[5]\n",
      " [4]]\n",
      "vector = [[-4]\n",
      " [ 3]], vector_new=[[ 3]\n",
      " [-4]]\n",
      "vector = [[-2]\n",
      " [-2]], vector_new=[[-2]\n",
      " [-2]]\n",
      "vector = [[-9]\n",
      " [-5]], vector_new=[[-5]\n",
      " [-9]]\n",
      "vector = [[-4]\n",
      " [-5]], vector_new=[[-5]\n",
      " [-4]]\n",
      "vector = [[ 9]\n",
      " [-1]], vector_new=[[-1]\n",
      " [ 9]]\n",
      "vector = [[ 3]\n",
      " [-4]], vector_new=[[-4]\n",
      " [ 3]]\n",
      "vector = [[0]\n",
      " [2]], vector_new=[[2]\n",
      " [0]]\n",
      "vector = [[2]\n",
      " [4]], vector_new=[[4]\n",
      " [2]]\n",
      "vector = [ 0.70710678 -0.70710678], vector_new=[-0.70710678  0.70710678]\n",
      "vector = [0.70710678 0.70710678], vector_new=[0.70710678 0.70710678]\n"
     ]
    },
    {
     "data": {
      "image/png": "[encoded data removed]",
      "text/plain": [
       "<Figure size 640x480 with 1 Axes>"
      ]
     },
     "metadata": {},
     "output_type": "display_data"
    },
    {
     "name": "stdout",
     "output_type": "stream",
     "text": [
      "None\n"
     ]
    }
   ],
   "source": [
    "# TODO: test with some gates\n",
    "print(plot_gate_representation(X_gate()))"
   ]
  },
  {
   "cell_type": "markdown",
   "metadata": {
    "id": "bEDvmemGWl6B"
   },
   "source": [
    "## Conclusion\n",
    "Congrats on mastering single qubit gates! As we embark on quantum entanglement, just remember: the math might feel like trying to untangle earbuds from your pocket. Stay patient and untangled! 🎧"
   ]
  }
 ],
 "metadata": {
  "colab": {
   "provenance": []
  },
  "kernelspec": {
   "display_name": "pulse",
   "language": "python",
   "name": "python3"
  },
  "language_info": {
   "codemirror_mode": {
    "name": "ipython",
    "version": 3
   },
   "file_extension": ".py",
   "mimetype": "text/x-python",
   "name": "python",
   "nbconvert_exporter": "python",
   "pygments_lexer": "ipython3",
   "version": "3.13.0"
  }
 },
 "nbformat": 4,
 "nbformat_minor": 0
}
