{
 "cells": [
  {
   "cell_type": "markdown",
   "metadata": {},
   "source": [
    "# Quantum Computing Lab 3: Multi Qubit Gates"
   ]
  },
  {
   "cell_type": "code",
   "metadata": {
    "ExecuteTime": {
     "end_time": "2024-11-12T16:24:27.647867Z",
     "start_time": "2024-11-12T16:24:27.596850Z"
    }
   },
   "source": [
    "import numpy as np"
   ],
   "outputs": [],
   "execution_count": 1
  },
  {
   "metadata": {
    "ExecuteTime": {
     "end_time": "2024-11-12T16:45:57.324415Z",
     "start_time": "2024-11-12T16:45:57.319883Z"
    }
   },
   "cell_type": "code",
   "source": [
    "def H_gate():\n",
    "    return 1 / np.sqrt(2) * np.array([[1, 1], [1, -1]])\n",
    "def X_gate():\n",
    "    return np.array([[0, 1], [1, 0]])\n",
    "def Y_gate():\n",
    "    return np.array([[0, -1j], [1j, 0]])\n",
    "def Z_gate():\n",
    "    return np.array([[1, 0], [0, -1]])\n",
    "def S_gate():\n",
    "    return np.array([[1, 0], [0, 1j]])\n",
    "def CNOT_gate():\n",
    "    return np.array([\n",
    "        [1, 0, 0, 0],\n",
    "        [0, 1, 0, 0],\n",
    "        [0, 0, 0, 1],\n",
    "        [0, 0, 1, 0]\n",
    "    ])\n",
    "def CH_gate():\n",
    "    return np.array([\n",
    "        [1, 0, 0, 0],\n",
    "        [0, 1/np.sqrt(2), 0, 1/np.sqrt(2)],\n",
    "        [0, 0, 1, 0],\n",
    "        [0, 1/np.sqrt(2), 0, 1/np.sqrt(2)]\n",
    "    ])\n",
    "def SWAP_gate():\n",
    "    return np.array([\n",
    "        [0, 1],\n",
    "        [1, 0]\n",
    "    ])\n",
    "def CNOT10_gate():\n",
    "    return np.array([\n",
    "        [1, 0, 0, 0],\n",
    "        [0, 0, 0, 1],\n",
    "        [0, 0, 1, 0],\n",
    "        [0, 1, 0, 0]\n",
    "    ])\n",
    "def toffoli_gate():\n",
    "    return np.array([\n",
    "        [1, 0, 0, 0, 0, 0, 0, 0],\n",
    "        [0, 1, 0, 0, 0, 0, 0, 0],\n",
    "        [0, 0, 1, 0, 0, 0, 0, 0],\n",
    "        [0, 0, 0, 1, 0, 0, 0, 0],\n",
    "        [0, 0, 0, 0, 1, 0, 0, 0],\n",
    "        [0, 0, 0, 0, 0, 1, 0, 0],\n",
    "        [0, 0, 0, 0, 0, 0, 0, 1],\n",
    "        [0, 0, 0, 0, 0, 0, 1, 0]\n",
    "    ])"
   ],
   "outputs": [],
   "execution_count": 64
  },
  {
   "metadata": {
    "ExecuteTime": {
     "end_time": "2024-11-12T16:45:57.642288Z",
     "start_time": "2024-11-12T16:45:57.639583Z"
    }
   },
   "cell_type": "code",
   "source": "print(toffoli_gate())",
   "outputs": [
    {
     "name": "stdout",
     "output_type": "stream",
     "text": [
      "[[1 0 0 0 0 0 0 0]\n",
      " [0 1 0 0 0 0 0 0]\n",
      " [0 0 1 0 0 0 0 0]\n",
      " [0 0 0 1 0 0 0 0]\n",
      " [0 0 0 0 1 0 0 0]\n",
      " [0 0 0 0 0 1 0 0]\n",
      " [0 0 0 0 0 0 0 1]\n",
      " [0 0 0 0 0 0 1 0]]\n"
     ]
    }
   ],
   "execution_count": 65
  },
  {
   "cell_type": "code",
   "metadata": {
    "ExecuteTime": {
     "end_time": "2024-11-12T17:06:50.125186Z",
     "start_time": "2024-11-12T17:06:50.120815Z"
    }
   },
   "source": [
    "class State:\n",
    "    def __init__(self, n_qubits):\n",
    "        self.n_qubits = n_qubits\n",
    "        self.state = np.zeros(2**n_qubits, dtype=np.complex128)\n",
    "\n",
    "    def initialize_state(self, qubit_values):\n",
    "        assert len(qubit_values) == self.n_qubits\n",
    "        \n",
    "        index = int(\"\".join(str(bit) for bit in qubit_values), 2)\n",
    "        self.state = np.zeros(2**self.n_qubits, dtype=np.complex128)\n",
    "        self.state[index] = 1.0\n",
    "            \n",
    "    \n",
    "    def apply_gate(self, gate, n_gate, starting_qubit):\n",
    "        unit_op = 1\n",
    "        i = 0\n",
    "        while i < self.n_qubits:\n",
    "            # print(i)\n",
    "            if i == starting_qubit:\n",
    "                unit_op = np.kron(unit_op, gate)\n",
    "                i += (n_gate - 1) # Sare restul de n_gate - 1 qbiti\n",
    "            else:\n",
    "                unit_op = np.kron(unit_op, np.eye(2))\n",
    "            i += 1\n",
    "        # print(unit_op.shape, self.state.shape)\n",
    "        # self.state = np.matmul(unit_op, self.state)\n",
    "        self.state = unit_op @ self.state\n",
    "        \n",
    "    def apply_H_gate(self, target_qubit):\n",
    "        self.apply_gate(H_gate(), 1, target_qubit)\n",
    "        \n",
    "    def apply_X_gate(self, target_qubit):\n",
    "        self.apply_gate(X_gate(), 1, target_qubit)\n",
    "    \n",
    "    def apply_S_gate(self, target_qubit):\n",
    "        self.apply_gate(S_gate(), 1, target_qubit)\n",
    "        \n",
    "    def apply_CNOT_gate(self, target_qubit):\n",
    "        self.apply_gate(CNOT_gate(), 2, target_qubit)\n",
    "        \n",
    "    def apply_CH_gate(self, target_qubit):\n",
    "        self.apply_gate(CH_gate(), 2, target_qubit)\n",
    "    \n",
    "    def apply_SWAP_gate(self, target_qubit):\n",
    "        self.apply_gate(SWAP_gate(), 1, target_qubit)\n",
    "    \n",
    "    def apply_CNOT10_gate(self, target_qubit):\n",
    "        self.apply_gate(CNOT10_gate(), 2, target_qubit)\n",
    "    \n",
    "    def apply_TOFFOLI_gate(self, target_qubit):\n",
    "        self.apply_gate(toffoli_gate(), 3, target_qubit)\n",
    "    \n",
    "    def produce_measurement(self):\n",
    "        probabilities = np.array([np.abs(st) for st in self.state], dtype=np.float32)\n",
    "        probabilities /= probabilities.sum()\n",
    "        out = np.random.choice(range(len(self.state)), p=probabilities)\n",
    "        measures = [int(bit) for bit in f\"{out:0{self.n_qubits}b}\"]\n",
    "        return measures\n",
    "        "
   ],
   "outputs": [],
   "execution_count": 98
  },
  {
   "cell_type": "code",
   "metadata": {
    "ExecuteTime": {
     "end_time": "2024-11-12T17:06:54.970220Z",
     "start_time": "2024-11-12T17:06:54.966536Z"
    }
   },
   "source": [
    "qstate = State(5)\n",
    "qstate.initialize_state([0,1,1,0,0])\n",
    "qstate.apply_H_gate(0)\n",
    "qstate.apply_X_gate(1)\n",
    "qstate.apply_CNOT10_gate(0)\n",
    "print(qstate.produce_measurement())\n",
    "print(qstate.produce_measurement())\n",
    "print(qstate.produce_measurement())"
   ],
   "outputs": [
    {
     "name": "stdout",
     "output_type": "stream",
     "text": [
      "[1, 0, 1, 0, 0]\n",
      "[0, 0, 1, 0, 0]\n",
      "[0, 0, 1, 0, 0]\n"
     ]
    }
   ],
   "execution_count": 100
  },
  {
   "cell_type": "markdown",
   "metadata": {},
   "source": [
    "### Part 1: Multi qubit gates"
   ]
  },
  {
   "cell_type": "markdown",
   "metadata": {
    "tags": []
   },
   "source": [
    "#### 1.1: Define state\n",
    "Fill in the `__init__` function.\n",
    "\n",
    "An n-qubit state is an array of 2^n coefficients (one for each possible value of the qubits)."
   ]
  },
  {
   "cell_type": "markdown",
   "metadata": {
    "tags": []
   },
   "source": [
    "#### 1.2: Initialize state\n",
    "Fill in the `initialize_state` function.\n",
    "\n",
    "The function receives an array of desired value for each qubit, e.g. `[0,1,0,0]` for a 4-qubit system. The function should set the state accordingly."
   ]
  },
  {
   "cell_type": "markdown",
   "metadata": {
    "tags": []
   },
   "source": [
    "#### 1.3: Apply a gate\n",
    "Fill in the `apply_gate` function\n",
    "\n",
    "This function generates the unitary matrix which applies the `gate` gate to the current `state`. The parameter `n_gate` represents the number of qubits affected by the gate (e.g. for a `H` gate it would be 1; for a `CNOT` gate it would be 2). The `starting_qubit` represents the first qubit affected by the gate.\n",
    "\n",
    "Hint: `np.kron`\n"
   ]
  },
  {
   "cell_type": "markdown",
   "metadata": {
    "tags": []
   },
   "source": [
    "#### 1.4: Define single qubit gates\n",
    "Fill in the functions to define the H, X, S gates.\n",
    "\n",
    "Hint: use `apply_gate`"
   ]
  },
  {
   "cell_type": "markdown",
   "metadata": {
    "tags": []
   },
   "source": [
    "#### 1.5: Define multi qubit gates\n",
    "Fill in the functions to define the CNOT, CH, SWAP, Toffoli gates. Hint: use `apply_gate`\n",
    "\n",
    "The CNOT10 represents a reverse CNOT (i.e. first bit is the target and second is the control). Exercise: compute the 2-qubit matrix for CNOT10.\n"
   ]
  },
  {
   "cell_type": "markdown",
   "metadata": {
    "tags": []
   },
   "source": [
    "#### 1.6: Measure the state\n",
    "Fill in the `produce_measurement` function.\n",
    "\n",
    "The function should randomly measure according to state probabilities and output an array of qubit values (e.g. `[0,0,1,0]` for a 4-qubit system). DO NOT collapse the state.\n"
   ]
  },
  {
   "cell_type": "markdown",
   "metadata": {},
   "source": [
    "### Part 2: Implement circuit"
   ]
  },
  {
   "cell_type": "markdown",
   "metadata": {},
   "source": [
    "Implement the following circuit using your code. \n",
    "\n",
    "Output the following:\n",
    " - the magnitude and probability for each output\n",
    " - the outputs of 10 random measurements\n"
   ]
  },
  {
   "attachments": {
    "08acecb7-f3af-4e76-bcb1-bc867aadd46b.png": {
     "image/png": "[encoded data removed]"
    }
   },
   "cell_type": "markdown",
   "metadata": {},
   "source": [
    "![image.png](attachment:08acecb7-f3af-4e76-bcb1-bc867aadd46b.png)"
   ]
  },
  {
   "cell_type": "code",
   "metadata": {
    "ExecuteTime": {
     "end_time": "2024-11-12T17:11:39.327718Z",
     "start_time": "2024-11-12T17:11:39.324218Z"
    }
   },
   "source": [
    "circuit = State(4)\n",
    "\n",
    "circuit.apply_H_gate(0)\n",
    "circuit.apply_S_gate(0)\n",
    "\n",
    "circuit.apply_X_gate(2)\n",
    "circuit.apply_SWAP_gate(0)\n",
    "\n",
    "circuit.apply_CNOT_gate(1) # control bit: 0\n",
    "                           #  target bit: 1\n",
    "circuit.apply_CNOT_gate(2) # control bit: 2\n",
    "                           #  target bit: 3\n",
    "circuit.apply_H_gate(3)\n",
    "circuit.apply_CNOT10_gate(2) # control bit: 3\n",
    "                             #  target bit: 2\n",
    "circuit.apply_S_gate(3)\n",
    "circuit.apply_CNOT10_gate(1) # control bit: 2\n",
    "                             # target bit: 1\n",
    "circuit.apply_S_gate(3)\n",
    "circuit.apply_CH_gate(2) # control bit: 2\n",
    "                         # target bit: 3\n",
    "circuit.apply_H_gate(2)"
   ],
   "outputs": [],
   "execution_count": 102
  },
  {
   "cell_type": "markdown",
   "metadata": {},
   "source": [
    "### Part 3: Implement circuit in Quirk\n",
    "\n",
    "Implement the same circuit in https://algassert.com/quirk and compare the results with your code."
   ]
  },
  {
   "cell_type": "markdown",
   "metadata": {},
   "source": [
    "### Part 4: Implement circuit in IBM Qiskit\n",
    "\n",
    "#### 4.1: Qiskit local\n",
    "\n",
    "Implement the same circuit using Qiskit, run it using the local Qiskit AER simulator and compare the results with your code.\n",
    "\n",
    "Hint: read the docs https://qiskit.org/documentation/stubs/qiskit.circuit.QuantumCircuit.html#"
   ]
  },
  {
   "cell_type": "code",
   "metadata": {
    "ExecuteTime": {
     "end_time": "2024-11-12T17:11:45.285691Z",
     "start_time": "2024-11-12T17:11:45.274578Z"
    }
   },
   "source": [
    "# # EXAMPLE QISKIT USAGE\n",
    "# # install with: pip install qiskit\n",
    "# # then restart Jupyter\n",
    "# \n",
    "# # Import qiskit\n",
    "# from qiskit import QuantumCircuit, transpile, assemble, Aer, execute\n",
    "# from qiskit.visualization import plot_histogram\n",
    "# \n",
    "# # Example circuit: 2-qubit Bell state\n",
    "# qc = QuantumCircuit(2)\n",
    "# qc.h(0)\n",
    "# qc.cx(0, 1)\n",
    "# \n",
    "# # Simulate the circuit\n",
    "# simulator = Aer.get_backend('aer_simulator')\n",
    "# qc_compiled = transpile(qc, simulator)\n",
    "# qobj = assemble(qc_compiled)\n",
    "# result = simulator.run(qobj).result()\n",
    "# \n",
    "# # Get the results and plot\n",
    "# counts = result.get_counts(qc)\n",
    "# plot_histogram(counts)"
   ],
   "outputs": [
    {
     "ename": "ModuleNotFoundError",
     "evalue": "No module named 'qiskit'",
     "output_type": "error",
     "traceback": [
      "\u001B[0;31m---------------------------------------------------------------------------\u001B[0m",
      "\u001B[0;31mModuleNotFoundError\u001B[0m                       Traceback (most recent call last)",
      "Cell \u001B[0;32mIn[103], line 6\u001B[0m\n\u001B[1;32m      1\u001B[0m \u001B[38;5;66;03m# EXAMPLE QISKIT USAGE\u001B[39;00m\n\u001B[1;32m      2\u001B[0m \u001B[38;5;66;03m# install with: pip install qiskit\u001B[39;00m\n\u001B[1;32m      3\u001B[0m \u001B[38;5;66;03m# then restart Jupyter\u001B[39;00m\n\u001B[1;32m      4\u001B[0m \n\u001B[1;32m      5\u001B[0m \u001B[38;5;66;03m# Import qiskit\u001B[39;00m\n\u001B[0;32m----> 6\u001B[0m \u001B[38;5;28;01mfrom\u001B[39;00m \u001B[38;5;21;01mqiskit\u001B[39;00m \u001B[38;5;28;01mimport\u001B[39;00m QuantumCircuit, transpile, assemble, Aer, execute\n\u001B[1;32m      7\u001B[0m \u001B[38;5;28;01mfrom\u001B[39;00m \u001B[38;5;21;01mqiskit\u001B[39;00m\u001B[38;5;21;01m.\u001B[39;00m\u001B[38;5;21;01mvisualization\u001B[39;00m \u001B[38;5;28;01mimport\u001B[39;00m plot_histogram\n\u001B[1;32m      9\u001B[0m \u001B[38;5;66;03m# Example circuit: 2-qubit Bell state\u001B[39;00m\n",
      "\u001B[0;31mModuleNotFoundError\u001B[0m: No module named 'qiskit'"
     ]
    }
   ],
   "execution_count": 103
  },
  {
   "cell_type": "markdown",
   "metadata": {},
   "source": [
    "#### 4.2: Run Qiskit on real quantum hardware\n",
    "\n",
    "Run the Qiskit simulator on real quantum hardware provided by IBM."
   ]
  },
  {
   "cell_type": "code",
   "execution_count": null,
   "metadata": {},
   "outputs": [],
   "source": [
    "# EXAMPLE IBMQ USAGE\n",
    "\n",
    "# Obtain an IBM API key from https://quantum-computing.ibm.com/\n",
    "# Configure API key and load you account\n",
    "from qiskit import IBMQ\n",
    "IBMQ.save_account('YOUR_API_TOKEN')\n",
    "IBMQ.load_account()\n",
    "\n",
    "# Connect to one of the IBM quantum devices\n",
    "provider = IBMQ.get_provider(hub='ibm-q')\n",
    "backend = provider.get_backend('ibmq_manila')  # Replace with an available backend\n",
    "\n",
    "# Run the same circuit as before\n",
    "qobj = assemble(qc_compiled, backend)\n",
    "job = backend.run(qobj)\n",
    "result = job.result()\n",
    "\n",
    "# Get the results and plot\n",
    "counts = result.get_counts(qc)\n",
    "plot_histogram(counts)"
   ]
  },
  {
   "cell_type": "markdown",
   "metadata": {},
   "source": [
    "## Conclusion\n",
    "Congrats! You have done real quantum!"
   ]
  }
 ],
 "metadata": {
  "kernelspec": {
   "display_name": "Python 3 (ipykernel)",
   "language": "python",
   "name": "python3"
  },
  "language_info": {
   "codemirror_mode": {
    "name": "ipython",
    "version": 3
   },
   "file_extension": ".py",
   "mimetype": "text/x-python",
   "name": "python",
   "nbconvert_exporter": "python",
   "pygments_lexer": "ipython3",
   "version": "3.10.13"
  }
 },
 "nbformat": 4,
 "nbformat_minor": 4
}
